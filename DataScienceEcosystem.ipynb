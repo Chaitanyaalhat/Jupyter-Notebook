{
 "cells": [
  {
   "cell_type": "markdown",
   "id": "bd4e76ce-2002-466f-b690-1fff39af0865",
   "metadata": {},
   "source": [
    "### Exercise 1: Create a Jupyter Notebook"
   ]
  },
  {
   "cell_type": "markdown",
   "id": "51ac53a7-3ae5-4cfe-ac2f-d1be26aa84f9",
   "metadata": {},
   "source": [
    "Created Jupyter Notebook with name DataScienceEcosystem.ipynb"
   ]
  },
  {
   "cell_type": "markdown",
   "id": "8c053e26-d491-45de-a44c-b1b6c2f56dd2",
   "metadata": {},
   "source": [
    " "
   ]
  },
  {
   "cell_type": "markdown",
   "id": "c5e018e3-0068-4833-b965-0c18e59d9bf3",
   "metadata": {},
   "source": [
    "### Exercise 2: Create markdown cell with title of the notebook"
   ]
  },
  {
   "cell_type": "markdown",
   "id": "8a341408-5933-49f5-92d8-c382f05dd0c6",
   "metadata": {},
   "source": [
    "# Data Science Tools and Ecosystem"
   ]
  },
  {
   "cell_type": "markdown",
   "id": "ec2005a1-71ba-468b-8e4e-5325fb83d636",
   "metadata": {},
   "source": [
    "  "
   ]
  },
  {
   "cell_type": "markdown",
   "id": "8304c1e4-81ff-43f7-8d6f-ec8774eaca05",
   "metadata": {},
   "source": [
    "### Exercise 3 - Create a markdown cell for an introduction"
   ]
  },
  {
   "cell_type": "markdown",
   "id": "20a9c829-c1b5-4e73-8a8d-1e6a68f55b05",
   "metadata": {},
   "source": [
    "In this notebook, Data Science Tools and Ecosystem are summarized."
   ]
  },
  {
   "cell_type": "markdown",
   "id": "27bc00f4-bc26-4283-982c-a63d40da50d2",
   "metadata": {},
   "source": []
  },
  {
   "cell_type": "markdown",
   "id": "36ceadce-6f8b-4e70-a0c8-63e244d6e410",
   "metadata": {},
   "source": [
    "### Exercise 10 - Insert a markdown cell to list Objectives"
   ]
  },
  {
   "cell_type": "markdown",
   "id": "acbcc08f-7505-45fb-9da0-ebc8724f0939",
   "metadata": {},
   "source": [
    " **Objectives:**\n",
    "- Popular Languages in Data Science\n",
    "- Commonly used Libraries in Data Science\n",
    "- Popular Data Science Tools"
   ]
  },
  {
   "cell_type": "markdown",
   "id": "aece67fe-076c-495f-bf20-87db8870b53e",
   "metadata": {},
   "source": [
    "### Exercise 4 - Create a markdown cell to list data science languages"
   ]
  },
  {
   "cell_type": "markdown",
   "id": "1ba9b33f-a13e-43ea-bfeb-6087353366c9",
   "metadata": {},
   "source": [
    "Some of the popular languages that Data Scientists use are:\n",
    "1. Python\n",
    "2. R\n",
    "3. Julia"
   ]
  },
  {
   "cell_type": "raw",
   "id": "8177a055-5356-46c2-8ac5-f0e8a3619c96",
   "metadata": {},
   "source": []
  },
  {
   "cell_type": "markdown",
   "id": "a8e808e2-01cd-44aa-9e6f-7447cf2ead61",
   "metadata": {},
   "source": [
    "### Exercise 5 - Create a markdown cell to list data science libraries "
   ]
  },
  {
   "cell_type": "markdown",
   "id": "8950ca54-ad95-41db-94f3-b36316718cbf",
   "metadata": {},
   "source": [
    "Some of the commonly used libraries used by Data Scientists include:\n",
    "1. Pandas\n",
    "2. Sci-kit learn\n",
    "3. TensorFlow"
   ]
  },
  {
   "cell_type": "markdown",
   "id": "c0224b22-277b-4457-85e3-ae531dbff482",
   "metadata": {},
   "source": [
    "### Exercise 6 - Create a markdown cell with a table of Data Science tools"
   ]
  },
  {
   "cell_type": "markdown",
   "id": "90167479-8e23-4a3e-aed6-f1695f2e5aa2",
   "metadata": {},
   "source": [
    "The Table for Data Science tools is as follows:\n",
    "\n",
    "|Tools for Data Science|\n",
    "|----------------------|\n",
    "|      JupyterLab      |\n",
    "|     Visual Studio    |\n",
    "|       RStudio        |"
   ]
  },
  {
   "cell_type": "code",
   "execution_count": null,
   "id": "0d918c91-1bbd-4471-ba62-1e7c5ce760a0",
   "metadata": {},
   "outputs": [],
   "source": []
  },
  {
   "cell_type": "markdown",
   "id": "136b13f1-e068-4865-9795-e1c87c2aedd7",
   "metadata": {},
   "source": [
    "### Exercise 7 - Create a markdown cell introducing arithmetic expression examples"
   ]
  },
  {
   "cell_type": "markdown",
   "id": "6285207d-4947-4b6d-9c6c-d91ac093c51a",
   "metadata": {},
   "source": [
    "### Below are a few examples of evaluating arithmetic expressions in Python\n",
    "\n",
    " **Example 1** <br>\n",
    " **Expression**:2*3+4 <br>\n",
    " **Output**:10 <br>\n",
    "\n",
    " **Example 2** <br>\n",
    " **Expression**:5*3+4 <br>\n",
    " **Output**:19 <br>"
   ]
  },
  {
   "cell_type": "code",
   "execution_count": null,
   "id": "15f25657-033f-4296-9086-93f739ce6e0b",
   "metadata": {},
   "outputs": [],
   "source": []
  },
  {
   "cell_type": "markdown",
   "id": "37fefcaf-2ffd-483a-ba6f-4ff1a9ed4e81",
   "metadata": {},
   "source": [
    "### Exercise 8 - Create a code cell to multiply and add numbers"
   ]
  },
  {
   "cell_type": "code",
   "execution_count": 3,
   "id": "a2ba7aae-9046-42aa-8888-bcce5aac0423",
   "metadata": {},
   "outputs": [
    {
     "data": {
      "text/plain": [
       "17"
      ]
     },
     "execution_count": 3,
     "metadata": {},
     "output_type": "execute_result"
    }
   ],
   "source": [
    "#This a simple arithmetic expression to mutiply then add integers\n",
    "(3*4)+5"
   ]
  },
  {
   "cell_type": "code",
   "execution_count": null,
   "id": "a9ee4a3f-35c7-49ad-b7fd-55b09289225c",
   "metadata": {},
   "outputs": [],
   "source": []
  },
  {
   "cell_type": "markdown",
   "id": "78c0f912-7279-4746-865d-2e2f9861cbc1",
   "metadata": {},
   "source": [
    "### Exercise 9 - Create a code cell to convert minutes to hours"
   ]
  },
  {
   "cell_type": "code",
   "execution_count": 5,
   "id": "0528822d-79cd-48e3-88d2-e684d2f69350",
   "metadata": {},
   "outputs": [
    {
     "data": {
      "text/plain": [
       "3.3333333333333335"
      ]
     },
     "execution_count": 5,
     "metadata": {},
     "output_type": "execute_result"
    }
   ],
   "source": [
    "#This will convert 200 minutes to hours by diving by 60\n",
    "200/60"
   ]
  },
  {
   "cell_type": "markdown",
   "id": "518ace16-8058-40e7-99a5-f59a3e047bd9",
   "metadata": {},
   "source": [
    "### Exercise 11 - Create a markdown cell to indicate the Author's name"
   ]
  },
  {
   "cell_type": "markdown",
   "id": "b91639d7-af22-480e-810d-807b6a0c8a3e",
   "metadata": {},
   "source": [
    "## Author\n",
    "Chaitanya Alhat"
   ]
  },
  {
   "cell_type": "code",
   "execution_count": null,
   "id": "0ce508dc-b152-4071-98d0-c40a51701762",
   "metadata": {},
   "outputs": [],
   "source": []
  }
 ],
 "metadata": {
  "kernelspec": {
   "display_name": "Python 3 (ipykernel)",
   "language": "python",
   "name": "python3"
  },
  "language_info": {
   "codemirror_mode": {
    "name": "ipython",
    "version": 3
   },
   "file_extension": ".py",
   "mimetype": "text/x-python",
   "name": "python",
   "nbconvert_exporter": "python",
   "pygments_lexer": "ipython3",
   "version": "3.10.4"
  }
 },
 "nbformat": 4,
 "nbformat_minor": 5
}
